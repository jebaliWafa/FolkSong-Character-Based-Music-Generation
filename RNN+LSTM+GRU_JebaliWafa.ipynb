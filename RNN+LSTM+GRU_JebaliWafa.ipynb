{
  "nbformat": 4,
  "nbformat_minor": 0,
  "metadata": {
    "colab": {
      "provenance": []
    },
    "kernelspec": {
      "name": "python3",
      "display_name": "Python 3"
    },
    "language_info": {
      "name": "python"
    }
  },
  "cells": [
    {
      "cell_type": "code",
      "source": [
        "import numpy as np\n",
        "from tensorflow.keras.models import Sequential\n",
        "from tensorflow.keras.layers import SimpleRNN, LSTM, GRU, Dense\n",
        "from tensorflow.keras.optimizers import Adam"
      ],
      "metadata": {
        "id": "-F5lkLWTmUgk"
      },
      "execution_count": null,
      "outputs": []
    },
    {
      "cell_type": "code",
      "source": [
        "!pip install mitdeeplearning --quiet\n",
        "import mitdeeplearning as mdl"
      ],
      "metadata": {
        "colab": {
          "base_uri": "https://localhost:8080/"
        },
        "id": "zCyRavoQ66M-",
        "outputId": "32bc15bf-f50c-4696-ae4a-a0844827eb7b"
      },
      "execution_count": null,
      "outputs": [
        {
          "output_type": "stream",
          "name": "stdout",
          "text": [
            "\u001b[?25l     \u001b[90m━━━━━━━━━━━━━━━━━━━━━━━━━━━━━━━━━━━━━━━━\u001b[0m \u001b[32m0.0/2.1 MB\u001b[0m \u001b[31m?\u001b[0m eta \u001b[36m-:--:--\u001b[0m\r\u001b[2K     \u001b[91m━━━━━━━━━━━━━\u001b[0m\u001b[90m╺\u001b[0m\u001b[90m━━━━━━━━━━━━━━━━━━━━━━━━━━\u001b[0m \u001b[32m0.7/2.1 MB\u001b[0m \u001b[31m20.8 MB/s\u001b[0m eta \u001b[36m0:00:01\u001b[0m\r\u001b[2K     \u001b[90m━━━━━━━━━━━━━━━━━━━━━━━━━━━━━━━━━━━━━━━━\u001b[0m \u001b[32m2.1/2.1 MB\u001b[0m \u001b[31m30.4 MB/s\u001b[0m eta \u001b[36m0:00:00\u001b[0m\n",
            "\u001b[?25h  Preparing metadata (setup.py) ... \u001b[?25l\u001b[?25hdone\n",
            "  Building wheel for mitdeeplearning (setup.py) ... \u001b[?25l\u001b[?25hdone\n"
          ]
        }
      ]
    },
    {
      "cell_type": "code",
      "source": [
        "pip install midiutil\n"
      ],
      "metadata": {
        "colab": {
          "base_uri": "https://localhost:8080/"
        },
        "id": "7cpWddKVf1C8",
        "outputId": "c855ab91-e770-48df-acf5-abba0876649b"
      },
      "execution_count": null,
      "outputs": [
        {
          "output_type": "stream",
          "name": "stdout",
          "text": [
            "Collecting midiutil\n",
            "  Downloading MIDIUtil-1.2.1.tar.gz (1.0 MB)\n",
            "\u001b[?25l     \u001b[90m━━━━━━━━━━━━━━━━━━━━━━━━━━━━━━━━━━━━━━━━\u001b[0m \u001b[32m0.0/1.0 MB\u001b[0m \u001b[31m?\u001b[0m eta \u001b[36m-:--:--\u001b[0m\r\u001b[2K     \u001b[91m━━━━━━━━━━━━━━━━━━━━━━━━━━━\u001b[0m\u001b[90m╺\u001b[0m\u001b[90m━━━━━━━━━━━━\u001b[0m \u001b[32m0.7/1.0 MB\u001b[0m \u001b[31m20.5 MB/s\u001b[0m eta \u001b[36m0:00:01\u001b[0m\r\u001b[2K     \u001b[90m━━━━━━━━━━━━━━━━━━━━━━━━━━━━━━━━━━━━━━━━\u001b[0m \u001b[32m1.0/1.0 MB\u001b[0m \u001b[31m19.7 MB/s\u001b[0m eta \u001b[36m0:00:00\u001b[0m\n",
            "\u001b[?25h  Preparing metadata (setup.py) ... \u001b[?25l\u001b[?25hdone\n",
            "Building wheels for collected packages: midiutil\n",
            "  Building wheel for midiutil (setup.py) ... \u001b[?25l\u001b[?25hdone\n",
            "  Created wheel for midiutil: filename=MIDIUtil-1.2.1-py3-none-any.whl size=54569 sha256=7b77ef8c510f63ef82fb442652158049ca2eb6d11ed1a8b2ad3ccd99f52291b3\n",
            "  Stored in directory: /root/.cache/pip/wheels/af/43/4a/00b5e4f2fe5e2cd6e92b461995a3a97a2cebb30ab5783501b0\n",
            "Successfully built midiutil\n",
            "Installing collected packages: midiutil\n",
            "Successfully installed midiutil-1.2.1\n"
          ]
        }
      ]
    },
    {
      "cell_type": "code",
      "source": [
        "#load the dataset\n",
        "songs = mdl.lab1.load_training_data()"
      ],
      "metadata": {
        "colab": {
          "base_uri": "https://localhost:8080/"
        },
        "id": "n35IzPlKrYny",
        "outputId": "106c6660-a7cd-4075-f8f1-28d9a8e0007a"
      },
      "execution_count": null,
      "outputs": [
        {
          "output_type": "stream",
          "name": "stdout",
          "text": [
            "Found 817 songs in text\n"
          ]
        }
      ]
    },
    {
      "cell_type": "code",
      "source": [
        "# Print an example song to inspect it\n",
        "example_song = songs[0]\n",
        "print(\"\\nExample song: \")\n",
        "print(example_song)\n"
      ],
      "metadata": {
        "colab": {
          "base_uri": "https://localhost:8080/"
        },
        "id": "eUu1mN9B6zuj",
        "outputId": "8fae0881-e9ec-41e0-cf13-d5cd42e2c47c"
      },
      "execution_count": null,
      "outputs": [
        {
          "output_type": "stream",
          "name": "stdout",
          "text": [
            "\n",
            "Example song: \n",
            "X:1\n",
            "T:Alexander's\n",
            "Z: id:dc-hornpipe-1\n",
            "M:C|\n",
            "L:1/8\n",
            "K:D Major\n",
            "(3ABc|dAFA DFAd|fdcd FAdf|gfge fefd|(3efe (3dcB A2 (3ABc|!\n",
            "dAFA DFAd|fdcd FAdf|gfge fefd|(3efe dc d2:|!\n",
            "AG|FAdA FAdA|GBdB GBdB|Acec Acec|dfaf gecA|!\n",
            "FAdA FAdA|GBdB GBdB|Aceg fefd|(3efe dc d2:|!\n"
          ]
        }
      ]
    },
    {
      "cell_type": "markdown",
      "source": [
        "# Data Preparation"
      ],
      "metadata": {
        "id": "anlc7tT8lc6P"
      }
    },
    {
      "cell_type": "code",
      "source": [
        "# Join all songs into a single string for easier processing\n",
        "# Limiting to 50,000 characters if necessary to reduce memory usage\n",
        "songs_joined = \"\\n\\n\".join(songs[:50000])"
      ],
      "metadata": {
        "id": "viTKDd8Ylcsn"
      },
      "execution_count": null,
      "outputs": []
    },
    {
      "cell_type": "markdown",
      "source": [
        "# Character Mapping"
      ],
      "metadata": {
        "id": "RTFDZVlUlVRz"
      }
    },
    {
      "cell_type": "code",
      "source": [
        "# Identify all unique characters in the dataset\n",
        "vocab = sorted(set(songs_joined))\n",
        "print(\"There are\", len(vocab), \"unique characters in the dataset\")\n",
        "\n",
        "# Create mappings from character to integer and integer to character\n",
        "char_to_int = {char: i for i, char in enumerate(vocab)}\n",
        "int_to_char = {i: char for i, char in enumerate(vocab)}"
      ],
      "metadata": {
        "colab": {
          "base_uri": "https://localhost:8080/"
        },
        "id": "eruPG8TylVDa",
        "outputId": "32ed0228-d400-403c-bb00-2303db9ca8c8"
      },
      "execution_count": null,
      "outputs": [
        {
          "output_type": "stream",
          "name": "stdout",
          "text": [
            "There are 83 unique characters in the dataset\n"
          ]
        }
      ]
    },
    {
      "cell_type": "markdown",
      "source": [
        "#Data Reshaping and Normalization"
      ],
      "metadata": {
        "id": "0FlM9nAclNhy"
      }
    },
    {
      "cell_type": "code",
      "source": [
        "# Data preparation with a smaller sequence length\n",
        "seq_length = 50  # Reduced sequence length\n",
        "X, y = [], []\n",
        "\n",
        "# Create sequences of characters from the dataset\n",
        "for i in range(len(songs_joined) - seq_length):\n",
        "    X.append([char_to_int[char] for char in songs_joined[i:i + seq_length]])\n",
        "    y.append(char_to_int[songs_joined[i + seq_length]])\n",
        "# Convert lists to numpy arrays for model compatibility\n",
        "X = np.array(X)\n",
        "y = np.array(y)\n",
        "\n",
        "# Reshape X for compatibility with RNN/LSTM/GRU layers: [samples, time steps, features]\n",
        "# Normalize X by dividing by the length of the vocabulary\n",
        "X = np.reshape(X, (X.shape[0], X.shape[1], 1)) / float(len(vocab))"
      ],
      "metadata": {
        "id": "DsfHsC4_lNM4"
      },
      "execution_count": null,
      "outputs": []
    },
    {
      "cell_type": "markdown",
      "source": [
        "# Model Definitions"
      ],
      "metadata": {
        "id": "D2czwU-wlC13"
      }
    },
    {
      "cell_type": "code",
      "source": [
        "# Model 1: Simple RNN with reduced units\n",
        "def create_rnn_model():\n",
        "    model = Sequential()\n",
        "    model.add(SimpleRNN(64, input_shape=(X.shape[1], X.shape[2]), activation='relu'))\n",
        "    model.add(Dense(len(vocab), activation='softmax'))\n",
        "    model.compile(loss='sparse_categorical_crossentropy', optimizer=Adam(learning_rate=0.001), metrics=['accuracy'])\n",
        "    return model\n",
        "\n",
        "# Model 2: LSTM with reduced units\n",
        "def create_lstm_model():\n",
        "    model = Sequential()\n",
        "    model.add(LSTM(64, input_shape=(X.shape[1], X.shape[2]), activation='relu'))\n",
        "    model.add(Dense(len(vocab), activation='softmax'))\n",
        "    model.compile(loss='sparse_categorical_crossentropy', optimizer=Adam(learning_rate=0.001), metrics=['accuracy'])\n",
        "    return model\n",
        "\n",
        "# Model 3: GRU with reduced units\n",
        "def create_gru_model():\n",
        "    model = Sequential()\n",
        "    model.add(GRU(64, input_shape=(X.shape[1], X.shape[2]), activation='relu'))\n",
        "    model.add(Dense(len(vocab), activation='softmax'))\n",
        "    model.compile(loss='sparse_categorical_crossentropy', optimizer=Adam(learning_rate=0.001), metrics=['accuracy'])\n",
        "    return model"
      ],
      "metadata": {
        "id": "k2a2qEbdlDSl"
      },
      "execution_count": null,
      "outputs": []
    },
    {
      "cell_type": "markdown",
      "source": [
        "# Instantiate Models"
      ],
      "metadata": {
        "id": "gw7LjVAXk8EA"
      }
    },
    {
      "cell_type": "code",
      "source": [
        "# Create and compile each model\n",
        "rnn_model = create_rnn_model()\n",
        "lstm_model = create_lstm_model()\n",
        "gru_model = create_gru_model()"
      ],
      "metadata": {
        "colab": {
          "base_uri": "https://localhost:8080/"
        },
        "id": "Fz5PDXH9k9dN",
        "outputId": "2ddd2ed6-41d1-47f8-8894-9f8e3a31c050"
      },
      "execution_count": null,
      "outputs": [
        {
          "output_type": "stream",
          "name": "stderr",
          "text": [
            "/usr/local/lib/python3.10/dist-packages/keras/src/layers/rnn/rnn.py:204: UserWarning: Do not pass an `input_shape`/`input_dim` argument to a layer. When using Sequential models, prefer using an `Input(shape)` object as the first layer in the model instead.\n",
            "  super().__init__(**kwargs)\n"
          ]
        }
      ]
    },
    {
      "cell_type": "markdown",
      "source": [
        "# Display Model Summaries"
      ],
      "metadata": {
        "id": "EFtXFSCRky33"
      }
    },
    {
      "cell_type": "code",
      "source": [
        "\n",
        "print(\"Summary for Simple RNN Model:\")\n",
        "rnn_model.summary()\n",
        "\n",
        "print(\"\\nSummary for LSTM Model:\")\n",
        "lstm_model.summary()\n",
        "\n",
        "print(\"\\nSummary for GRU Model:\")\n",
        "gru_model.summary()"
      ],
      "metadata": {
        "colab": {
          "base_uri": "https://localhost:8080/",
          "height": 632
        },
        "id": "EETvc_z0kyXu",
        "outputId": "7c78c21f-16c6-433a-df06-b36f53da0546"
      },
      "execution_count": null,
      "outputs": [
        {
          "output_type": "stream",
          "name": "stdout",
          "text": [
            "Summary for Simple RNN Model:\n"
          ]
        },
        {
          "output_type": "display_data",
          "data": {
            "text/plain": [
              "\u001b[1mModel: \"sequential\"\u001b[0m\n"
            ],
            "text/html": [
              "<pre style=\"white-space:pre;overflow-x:auto;line-height:normal;font-family:Menlo,'DejaVu Sans Mono',consolas,'Courier New',monospace\"><span style=\"font-weight: bold\">Model: \"sequential\"</span>\n",
              "</pre>\n"
            ]
          },
          "metadata": {}
        },
        {
          "output_type": "display_data",
          "data": {
            "text/plain": [
              "┏━━━━━━━━━━━━━━━━━━━━━━━━━━━━━━━━━━━━━━┳━━━━━━━━━━━━━━━━━━━━━━━━━━━━━┳━━━━━━━━━━━━━━━━━┓\n",
              "┃\u001b[1m \u001b[0m\u001b[1mLayer (type)                        \u001b[0m\u001b[1m \u001b[0m┃\u001b[1m \u001b[0m\u001b[1mOutput Shape               \u001b[0m\u001b[1m \u001b[0m┃\u001b[1m \u001b[0m\u001b[1m        Param #\u001b[0m\u001b[1m \u001b[0m┃\n",
              "┡━━━━━━━━━━━━━━━━━━━━━━━━━━━━━━━━━━━━━━╇━━━━━━━━━━━━━━━━━━━━━━━━━━━━━╇━━━━━━━━━━━━━━━━━┩\n",
              "│ simple_rnn (\u001b[38;5;33mSimpleRNN\u001b[0m)               │ (\u001b[38;5;45mNone\u001b[0m, \u001b[38;5;34m64\u001b[0m)                  │           \u001b[38;5;34m4,224\u001b[0m │\n",
              "├──────────────────────────────────────┼─────────────────────────────┼─────────────────┤\n",
              "│ dense (\u001b[38;5;33mDense\u001b[0m)                        │ (\u001b[38;5;45mNone\u001b[0m, \u001b[38;5;34m83\u001b[0m)                  │           \u001b[38;5;34m5,395\u001b[0m │\n",
              "└──────────────────────────────────────┴─────────────────────────────┴─────────────────┘\n"
            ],
            "text/html": [
              "<pre style=\"white-space:pre;overflow-x:auto;line-height:normal;font-family:Menlo,'DejaVu Sans Mono',consolas,'Courier New',monospace\">┏━━━━━━━━━━━━━━━━━━━━━━━━━━━━━━━━━━━━━━┳━━━━━━━━━━━━━━━━━━━━━━━━━━━━━┳━━━━━━━━━━━━━━━━━┓\n",
              "┃<span style=\"font-weight: bold\"> Layer (type)                         </span>┃<span style=\"font-weight: bold\"> Output Shape                </span>┃<span style=\"font-weight: bold\">         Param # </span>┃\n",
              "┡━━━━━━━━━━━━━━━━━━━━━━━━━━━━━━━━━━━━━━╇━━━━━━━━━━━━━━━━━━━━━━━━━━━━━╇━━━━━━━━━━━━━━━━━┩\n",
              "│ simple_rnn (<span style=\"color: #0087ff; text-decoration-color: #0087ff\">SimpleRNN</span>)               │ (<span style=\"color: #00d7ff; text-decoration-color: #00d7ff\">None</span>, <span style=\"color: #00af00; text-decoration-color: #00af00\">64</span>)                  │           <span style=\"color: #00af00; text-decoration-color: #00af00\">4,224</span> │\n",
              "├──────────────────────────────────────┼─────────────────────────────┼─────────────────┤\n",
              "│ dense (<span style=\"color: #0087ff; text-decoration-color: #0087ff\">Dense</span>)                        │ (<span style=\"color: #00d7ff; text-decoration-color: #00d7ff\">None</span>, <span style=\"color: #00af00; text-decoration-color: #00af00\">83</span>)                  │           <span style=\"color: #00af00; text-decoration-color: #00af00\">5,395</span> │\n",
              "└──────────────────────────────────────┴─────────────────────────────┴─────────────────┘\n",
              "</pre>\n"
            ]
          },
          "metadata": {}
        },
        {
          "output_type": "display_data",
          "data": {
            "text/plain": [
              "\u001b[1m Total params: \u001b[0m\u001b[38;5;34m9,619\u001b[0m (37.57 KB)\n"
            ],
            "text/html": [
              "<pre style=\"white-space:pre;overflow-x:auto;line-height:normal;font-family:Menlo,'DejaVu Sans Mono',consolas,'Courier New',monospace\"><span style=\"font-weight: bold\"> Total params: </span><span style=\"color: #00af00; text-decoration-color: #00af00\">9,619</span> (37.57 KB)\n",
              "</pre>\n"
            ]
          },
          "metadata": {}
        },
        {
          "output_type": "display_data",
          "data": {
            "text/plain": [
              "\u001b[1m Trainable params: \u001b[0m\u001b[38;5;34m9,619\u001b[0m (37.57 KB)\n"
            ],
            "text/html": [
              "<pre style=\"white-space:pre;overflow-x:auto;line-height:normal;font-family:Menlo,'DejaVu Sans Mono',consolas,'Courier New',monospace\"><span style=\"font-weight: bold\"> Trainable params: </span><span style=\"color: #00af00; text-decoration-color: #00af00\">9,619</span> (37.57 KB)\n",
              "</pre>\n"
            ]
          },
          "metadata": {}
        },
        {
          "output_type": "display_data",
          "data": {
            "text/plain": [
              "\u001b[1m Non-trainable params: \u001b[0m\u001b[38;5;34m0\u001b[0m (0.00 B)\n"
            ],
            "text/html": [
              "<pre style=\"white-space:pre;overflow-x:auto;line-height:normal;font-family:Menlo,'DejaVu Sans Mono',consolas,'Courier New',monospace\"><span style=\"font-weight: bold\"> Non-trainable params: </span><span style=\"color: #00af00; text-decoration-color: #00af00\">0</span> (0.00 B)\n",
              "</pre>\n"
            ]
          },
          "metadata": {}
        },
        {
          "output_type": "stream",
          "name": "stdout",
          "text": [
            "\n",
            "Summary for LSTM Model:\n"
          ]
        },
        {
          "output_type": "display_data",
          "data": {
            "text/plain": [
              "\u001b[1mModel: \"sequential_1\"\u001b[0m\n"
            ],
            "text/html": [
              "<pre style=\"white-space:pre;overflow-x:auto;line-height:normal;font-family:Menlo,'DejaVu Sans Mono',consolas,'Courier New',monospace\"><span style=\"font-weight: bold\">Model: \"sequential_1\"</span>\n",
              "</pre>\n"
            ]
          },
          "metadata": {}
        },
        {
          "output_type": "display_data",
          "data": {
            "text/plain": [
              "┏━━━━━━━━━━━━━━━━━━━━━━━━━━━━━━━━━━━━━━┳━━━━━━━━━━━━━━━━━━━━━━━━━━━━━┳━━━━━━━━━━━━━━━━━┓\n",
              "┃\u001b[1m \u001b[0m\u001b[1mLayer (type)                        \u001b[0m\u001b[1m \u001b[0m┃\u001b[1m \u001b[0m\u001b[1mOutput Shape               \u001b[0m\u001b[1m \u001b[0m┃\u001b[1m \u001b[0m\u001b[1m        Param #\u001b[0m\u001b[1m \u001b[0m┃\n",
              "┡━━━━━━━━━━━━━━━━━━━━━━━━━━━━━━━━━━━━━━╇━━━━━━━━━━━━━━━━━━━━━━━━━━━━━╇━━━━━━━━━━━━━━━━━┩\n",
              "│ lstm (\u001b[38;5;33mLSTM\u001b[0m)                          │ (\u001b[38;5;45mNone\u001b[0m, \u001b[38;5;34m64\u001b[0m)                  │          \u001b[38;5;34m16,896\u001b[0m │\n",
              "├──────────────────────────────────────┼─────────────────────────────┼─────────────────┤\n",
              "│ dense_1 (\u001b[38;5;33mDense\u001b[0m)                      │ (\u001b[38;5;45mNone\u001b[0m, \u001b[38;5;34m83\u001b[0m)                  │           \u001b[38;5;34m5,395\u001b[0m │\n",
              "└──────────────────────────────────────┴─────────────────────────────┴─────────────────┘\n"
            ],
            "text/html": [
              "<pre style=\"white-space:pre;overflow-x:auto;line-height:normal;font-family:Menlo,'DejaVu Sans Mono',consolas,'Courier New',monospace\">┏━━━━━━━━━━━━━━━━━━━━━━━━━━━━━━━━━━━━━━┳━━━━━━━━━━━━━━━━━━━━━━━━━━━━━┳━━━━━━━━━━━━━━━━━┓\n",
              "┃<span style=\"font-weight: bold\"> Layer (type)                         </span>┃<span style=\"font-weight: bold\"> Output Shape                </span>┃<span style=\"font-weight: bold\">         Param # </span>┃\n",
              "┡━━━━━━━━━━━━━━━━━━━━━━━━━━━━━━━━━━━━━━╇━━━━━━━━━━━━━━━━━━━━━━━━━━━━━╇━━━━━━━━━━━━━━━━━┩\n",
              "│ lstm (<span style=\"color: #0087ff; text-decoration-color: #0087ff\">LSTM</span>)                          │ (<span style=\"color: #00d7ff; text-decoration-color: #00d7ff\">None</span>, <span style=\"color: #00af00; text-decoration-color: #00af00\">64</span>)                  │          <span style=\"color: #00af00; text-decoration-color: #00af00\">16,896</span> │\n",
              "├──────────────────────────────────────┼─────────────────────────────┼─────────────────┤\n",
              "│ dense_1 (<span style=\"color: #0087ff; text-decoration-color: #0087ff\">Dense</span>)                      │ (<span style=\"color: #00d7ff; text-decoration-color: #00d7ff\">None</span>, <span style=\"color: #00af00; text-decoration-color: #00af00\">83</span>)                  │           <span style=\"color: #00af00; text-decoration-color: #00af00\">5,395</span> │\n",
              "└──────────────────────────────────────┴─────────────────────────────┴─────────────────┘\n",
              "</pre>\n"
            ]
          },
          "metadata": {}
        },
        {
          "output_type": "display_data",
          "data": {
            "text/plain": [
              "\u001b[1m Total params: \u001b[0m\u001b[38;5;34m22,291\u001b[0m (87.07 KB)\n"
            ],
            "text/html": [
              "<pre style=\"white-space:pre;overflow-x:auto;line-height:normal;font-family:Menlo,'DejaVu Sans Mono',consolas,'Courier New',monospace\"><span style=\"font-weight: bold\"> Total params: </span><span style=\"color: #00af00; text-decoration-color: #00af00\">22,291</span> (87.07 KB)\n",
              "</pre>\n"
            ]
          },
          "metadata": {}
        },
        {
          "output_type": "display_data",
          "data": {
            "text/plain": [
              "\u001b[1m Trainable params: \u001b[0m\u001b[38;5;34m22,291\u001b[0m (87.07 KB)\n"
            ],
            "text/html": [
              "<pre style=\"white-space:pre;overflow-x:auto;line-height:normal;font-family:Menlo,'DejaVu Sans Mono',consolas,'Courier New',monospace\"><span style=\"font-weight: bold\"> Trainable params: </span><span style=\"color: #00af00; text-decoration-color: #00af00\">22,291</span> (87.07 KB)\n",
              "</pre>\n"
            ]
          },
          "metadata": {}
        },
        {
          "output_type": "display_data",
          "data": {
            "text/plain": [
              "\u001b[1m Non-trainable params: \u001b[0m\u001b[38;5;34m0\u001b[0m (0.00 B)\n"
            ],
            "text/html": [
              "<pre style=\"white-space:pre;overflow-x:auto;line-height:normal;font-family:Menlo,'DejaVu Sans Mono',consolas,'Courier New',monospace\"><span style=\"font-weight: bold\"> Non-trainable params: </span><span style=\"color: #00af00; text-decoration-color: #00af00\">0</span> (0.00 B)\n",
              "</pre>\n"
            ]
          },
          "metadata": {}
        },
        {
          "output_type": "stream",
          "name": "stdout",
          "text": [
            "\n",
            "Summary for GRU Model:\n"
          ]
        },
        {
          "output_type": "display_data",
          "data": {
            "text/plain": [
              "\u001b[1mModel: \"sequential_2\"\u001b[0m\n"
            ],
            "text/html": [
              "<pre style=\"white-space:pre;overflow-x:auto;line-height:normal;font-family:Menlo,'DejaVu Sans Mono',consolas,'Courier New',monospace\"><span style=\"font-weight: bold\">Model: \"sequential_2\"</span>\n",
              "</pre>\n"
            ]
          },
          "metadata": {}
        },
        {
          "output_type": "display_data",
          "data": {
            "text/plain": [
              "┏━━━━━━━━━━━━━━━━━━━━━━━━━━━━━━━━━━━━━━┳━━━━━━━━━━━━━━━━━━━━━━━━━━━━━┳━━━━━━━━━━━━━━━━━┓\n",
              "┃\u001b[1m \u001b[0m\u001b[1mLayer (type)                        \u001b[0m\u001b[1m \u001b[0m┃\u001b[1m \u001b[0m\u001b[1mOutput Shape               \u001b[0m\u001b[1m \u001b[0m┃\u001b[1m \u001b[0m\u001b[1m        Param #\u001b[0m\u001b[1m \u001b[0m┃\n",
              "┡━━━━━━━━━━━━━━━━━━━━━━━━━━━━━━━━━━━━━━╇━━━━━━━━━━━━━━━━━━━━━━━━━━━━━╇━━━━━━━━━━━━━━━━━┩\n",
              "│ gru (\u001b[38;5;33mGRU\u001b[0m)                            │ (\u001b[38;5;45mNone\u001b[0m, \u001b[38;5;34m64\u001b[0m)                  │          \u001b[38;5;34m12,864\u001b[0m │\n",
              "├──────────────────────────────────────┼─────────────────────────────┼─────────────────┤\n",
              "│ dense_2 (\u001b[38;5;33mDense\u001b[0m)                      │ (\u001b[38;5;45mNone\u001b[0m, \u001b[38;5;34m83\u001b[0m)                  │           \u001b[38;5;34m5,395\u001b[0m │\n",
              "└──────────────────────────────────────┴─────────────────────────────┴─────────────────┘\n"
            ],
            "text/html": [
              "<pre style=\"white-space:pre;overflow-x:auto;line-height:normal;font-family:Menlo,'DejaVu Sans Mono',consolas,'Courier New',monospace\">┏━━━━━━━━━━━━━━━━━━━━━━━━━━━━━━━━━━━━━━┳━━━━━━━━━━━━━━━━━━━━━━━━━━━━━┳━━━━━━━━━━━━━━━━━┓\n",
              "┃<span style=\"font-weight: bold\"> Layer (type)                         </span>┃<span style=\"font-weight: bold\"> Output Shape                </span>┃<span style=\"font-weight: bold\">         Param # </span>┃\n",
              "┡━━━━━━━━━━━━━━━━━━━━━━━━━━━━━━━━━━━━━━╇━━━━━━━━━━━━━━━━━━━━━━━━━━━━━╇━━━━━━━━━━━━━━━━━┩\n",
              "│ gru (<span style=\"color: #0087ff; text-decoration-color: #0087ff\">GRU</span>)                            │ (<span style=\"color: #00d7ff; text-decoration-color: #00d7ff\">None</span>, <span style=\"color: #00af00; text-decoration-color: #00af00\">64</span>)                  │          <span style=\"color: #00af00; text-decoration-color: #00af00\">12,864</span> │\n",
              "├──────────────────────────────────────┼─────────────────────────────┼─────────────────┤\n",
              "│ dense_2 (<span style=\"color: #0087ff; text-decoration-color: #0087ff\">Dense</span>)                      │ (<span style=\"color: #00d7ff; text-decoration-color: #00d7ff\">None</span>, <span style=\"color: #00af00; text-decoration-color: #00af00\">83</span>)                  │           <span style=\"color: #00af00; text-decoration-color: #00af00\">5,395</span> │\n",
              "└──────────────────────────────────────┴─────────────────────────────┴─────────────────┘\n",
              "</pre>\n"
            ]
          },
          "metadata": {}
        },
        {
          "output_type": "display_data",
          "data": {
            "text/plain": [
              "\u001b[1m Total params: \u001b[0m\u001b[38;5;34m18,259\u001b[0m (71.32 KB)\n"
            ],
            "text/html": [
              "<pre style=\"white-space:pre;overflow-x:auto;line-height:normal;font-family:Menlo,'DejaVu Sans Mono',consolas,'Courier New',monospace\"><span style=\"font-weight: bold\"> Total params: </span><span style=\"color: #00af00; text-decoration-color: #00af00\">18,259</span> (71.32 KB)\n",
              "</pre>\n"
            ]
          },
          "metadata": {}
        },
        {
          "output_type": "display_data",
          "data": {
            "text/plain": [
              "\u001b[1m Trainable params: \u001b[0m\u001b[38;5;34m18,259\u001b[0m (71.32 KB)\n"
            ],
            "text/html": [
              "<pre style=\"white-space:pre;overflow-x:auto;line-height:normal;font-family:Menlo,'DejaVu Sans Mono',consolas,'Courier New',monospace\"><span style=\"font-weight: bold\"> Trainable params: </span><span style=\"color: #00af00; text-decoration-color: #00af00\">18,259</span> (71.32 KB)\n",
              "</pre>\n"
            ]
          },
          "metadata": {}
        },
        {
          "output_type": "display_data",
          "data": {
            "text/plain": [
              "\u001b[1m Non-trainable params: \u001b[0m\u001b[38;5;34m0\u001b[0m (0.00 B)\n"
            ],
            "text/html": [
              "<pre style=\"white-space:pre;overflow-x:auto;line-height:normal;font-family:Menlo,'DejaVu Sans Mono',consolas,'Courier New',monospace\"><span style=\"font-weight: bold\"> Non-trainable params: </span><span style=\"color: #00af00; text-decoration-color: #00af00\">0</span> (0.00 B)\n",
              "</pre>\n"
            ]
          },
          "metadata": {}
        }
      ]
    },
    {
      "cell_type": "markdown",
      "source": [
        "# Model Training and Music Generation\n",
        "* Model Training:\n",
        "The models (RNN, LSTM, GRU) are trained on the data using the fit() function with specified epochs and batch size.\n",
        "* Music Generation:\n",
        "The generate_music() function is used for generating music using the trained models by applying Top-K sampling to predict the next characters in the sequence."
      ],
      "metadata": {
        "id": "AyzhZOOJonhR"
      }
    },
    {
      "cell_type": "code",
      "source": [
        "\n",
        "# Train the models with fewer epochs and a batch size\n",
        "rnn_model.fit(X, y, epochs=50, batch_size=64, verbose=1)\n",
        "lstm_model.fit(X, y, epochs=50, batch_size=64, verbose=1)\n",
        "gru_model.fit(X, y, epochs=50, batch_size=64, verbose=1)\n",
        "\n",
        "# Function to generate music using Top-K sampling\n",
        "def generate_music(model, seed, num_chars=500, top_k=5):\n",
        "    generated_sequence = seed\n",
        "    for _ in range(num_chars):\n",
        "        input_seq = np.reshape([char_to_int[char] for char in generated_sequence[-seq_length:]], (1, seq_length, 1))\n",
        "        input_seq = input_seq / float(len(vocab))  # Normalize the input\n",
        "\n",
        "        pred = model.predict(input_seq, verbose=0).squeeze()\n",
        "\n",
        "        # Apply Top-K sampling\n",
        "        top_k_indices = np.argsort(pred)[-top_k:]\n",
        "        top_k_pred = pred[top_k_indices]\n",
        "        top_k_pred = top_k_pred / np.sum(top_k_pred)  # Normalize\n",
        "\n",
        "        next_char_index = np.random.choice(top_k_indices, p=top_k_pred)\n",
        "        next_char = int_to_char[next_char_index]\n",
        "        generated_sequence += next_char\n",
        "    return generated_sequence\n",
        "\n",
        "# Generate music using each model\n",
        "seed_text = songs_joined[:seq_length]  # Using the first `seq_length` characters as seed\n",
        "rnn_generated = generate_music(rnn_model, seed=seed_text, num_chars=500)\n",
        "lstm_generated = generate_music(lstm_model, seed=seed_text, num_chars=500)\n",
        "gru_generated = generate_music(gru_model, seed=seed_text, num_chars=500)\n",
        "\n",
        "# Print the generated music\n",
        "print(\"\\nGenerated music with RNN:\")\n",
        "print(rnn_generated[:500])  # Print first 500 characters\n",
        "\n",
        "print(\"\\nGenerated music with LSTM:\")\n",
        "print(lstm_generated[:500])  # Print first 500 characters\n",
        "\n",
        "print(\"\\nGenerated music with GRU:\")\n",
        "print(gru_generated[:500])  # Print first 500 characters\n"
      ],
      "metadata": {
        "colab": {
          "base_uri": "https://localhost:8080/"
        },
        "id": "EEQX1c62Wou_",
        "outputId": "243ed645-c240-4230-c3c1-c2a5f8221925"
      },
      "execution_count": null,
      "outputs": [
        {
          "output_type": "stream",
          "name": "stdout",
          "text": [
            "There are 83 unique characters in the dataset\n",
            "Epoch 1/50\n"
          ]
        },
        {
          "output_type": "stream",
          "name": "stderr",
          "text": [
            "/usr/local/lib/python3.10/dist-packages/keras/src/layers/rnn/rnn.py:204: UserWarning: Do not pass an `input_shape`/`input_dim` argument to a layer. When using Sequential models, prefer using an `Input(shape)` object as the first layer in the model instead.\n",
            "  super().__init__(**kwargs)\n"
          ]
        },
        {
          "output_type": "stream",
          "name": "stdout",
          "text": [
            "\u001b[1m3135/3135\u001b[0m \u001b[32m━━━━━━━━━━━━━━━━━━━━\u001b[0m\u001b[37m\u001b[0m \u001b[1m44s\u001b[0m 13ms/step - accuracy: 0.1800 - loss: 3.0915\n",
            "Epoch 2/50\n",
            "\u001b[1m3135/3135\u001b[0m \u001b[32m━━━━━━━━━━━━━━━━━━━━\u001b[0m\u001b[37m\u001b[0m \u001b[1m41s\u001b[0m 13ms/step - accuracy: 0.3521 - loss: 2.2404\n",
            "Epoch 3/50\n",
            "\u001b[1m3135/3135\u001b[0m \u001b[32m━━━━━━━━━━━━━━━━━━━━\u001b[0m\u001b[37m\u001b[0m \u001b[1m82s\u001b[0m 13ms/step - accuracy: 0.3641 - loss: 2.1560\n",
            "Epoch 4/50\n",
            "\u001b[1m3135/3135\u001b[0m \u001b[32m━━━━━━━━━━━━━━━━━━━━\u001b[0m\u001b[37m\u001b[0m \u001b[1m41s\u001b[0m 13ms/step - accuracy: 0.3866 - loss: 2.0240\n",
            "Epoch 5/50\n",
            "\u001b[1m3135/3135\u001b[0m \u001b[32m━━━━━━━━━━━━━━━━━━━━\u001b[0m\u001b[37m\u001b[0m \u001b[1m82s\u001b[0m 13ms/step - accuracy: 0.4034 - loss: 1.9452\n",
            "Epoch 6/50\n",
            "\u001b[1m3135/3135\u001b[0m \u001b[32m━━━━━━━━━━━━━━━━━━━━\u001b[0m\u001b[37m\u001b[0m \u001b[1m82s\u001b[0m 13ms/step - accuracy: 0.4139 - loss: 1.8858\n",
            "Epoch 7/50\n",
            "\u001b[1m3135/3135\u001b[0m \u001b[32m━━━━━━━━━━━━━━━━━━━━\u001b[0m\u001b[37m\u001b[0m \u001b[1m82s\u001b[0m 13ms/step - accuracy: 0.4056 - loss: 1.9329\n",
            "Epoch 8/50\n",
            "\u001b[1m3135/3135\u001b[0m \u001b[32m━━━━━━━━━━━━━━━━━━━━\u001b[0m\u001b[37m\u001b[0m \u001b[1m42s\u001b[0m 13ms/step - accuracy: 0.4263 - loss: 1.8167\n",
            "Epoch 9/50\n",
            "\u001b[1m3135/3135\u001b[0m \u001b[32m━━━━━━━━━━━━━━━━━━━━\u001b[0m\u001b[37m\u001b[0m \u001b[1m81s\u001b[0m 13ms/step - accuracy: 0.4144 - loss: 1.8925\n",
            "Epoch 10/50\n",
            "\u001b[1m3135/3135\u001b[0m \u001b[32m━━━━━━━━━━━━━━━━━━━━\u001b[0m\u001b[37m\u001b[0m \u001b[1m42s\u001b[0m 13ms/step - accuracy: 0.4255 - loss: 1.8247\n",
            "Epoch 11/50\n",
            "\u001b[1m3135/3135\u001b[0m \u001b[32m━━━━━━━━━━━━━━━━━━━━\u001b[0m\u001b[37m\u001b[0m \u001b[1m82s\u001b[0m 13ms/step - accuracy: 0.4353 - loss: 1.7674\n",
            "Epoch 12/50\n",
            "\u001b[1m3135/3135\u001b[0m \u001b[32m━━━━━━━━━━━━━━━━━━━━\u001b[0m\u001b[37m\u001b[0m \u001b[1m42s\u001b[0m 13ms/step - accuracy: 0.4395 - loss: 1.7487\n",
            "Epoch 13/50\n",
            "\u001b[1m3135/3135\u001b[0m \u001b[32m━━━━━━━━━━━━━━━━━━━━\u001b[0m\u001b[37m\u001b[0m \u001b[1m81s\u001b[0m 13ms/step - accuracy: 0.4381 - loss: 1.7522\n",
            "Epoch 14/50\n",
            "\u001b[1m3135/3135\u001b[0m \u001b[32m━━━━━━━━━━━━━━━━━━━━\u001b[0m\u001b[37m\u001b[0m \u001b[1m82s\u001b[0m 13ms/step - accuracy: 0.4457 - loss: 1.7149\n",
            "Epoch 15/50\n",
            "\u001b[1m3135/3135\u001b[0m \u001b[32m━━━━━━━━━━━━━━━━━━━━\u001b[0m\u001b[37m\u001b[0m \u001b[1m82s\u001b[0m 13ms/step - accuracy: 0.4223 - loss: 1.8418\n",
            "Epoch 16/50\n",
            "\u001b[1m3135/3135\u001b[0m \u001b[32m━━━━━━━━━━━━━━━━━━━━\u001b[0m\u001b[37m\u001b[0m \u001b[1m82s\u001b[0m 13ms/step - accuracy: 0.4364 - loss: 1.7705\n",
            "Epoch 17/50\n",
            "\u001b[1m3135/3135\u001b[0m \u001b[32m━━━━━━━━━━━━━━━━━━━━\u001b[0m\u001b[37m\u001b[0m \u001b[1m82s\u001b[0m 13ms/step - accuracy: 0.4475 - loss: 1.7058\n",
            "Epoch 18/50\n",
            "\u001b[1m3135/3135\u001b[0m \u001b[32m━━━━━━━━━━━━━━━━━━━━\u001b[0m\u001b[37m\u001b[0m \u001b[1m42s\u001b[0m 13ms/step - accuracy: 0.4222 - loss: 1.8680\n",
            "Epoch 19/50\n",
            "\u001b[1m3135/3135\u001b[0m \u001b[32m━━━━━━━━━━━━━━━━━━━━\u001b[0m\u001b[37m\u001b[0m \u001b[1m82s\u001b[0m 13ms/step - accuracy: 0.4462 - loss: 1.7167\n",
            "Epoch 20/50\n",
            "\u001b[1m3135/3135\u001b[0m \u001b[32m━━━━━━━━━━━━━━━━━━━━\u001b[0m\u001b[37m\u001b[0m \u001b[1m43s\u001b[0m 14ms/step - accuracy: 0.4491 - loss: 1.7038\n",
            "Epoch 21/50\n",
            "\u001b[1m3135/3135\u001b[0m \u001b[32m━━━━━━━━━━━━━━━━━━━━\u001b[0m\u001b[37m\u001b[0m \u001b[1m82s\u001b[0m 13ms/step - accuracy: 0.4508 - loss: 1.6908\n",
            "Epoch 22/50\n",
            "\u001b[1m3135/3135\u001b[0m \u001b[32m━━━━━━━━━━━━━━━━━━━━\u001b[0m\u001b[37m\u001b[0m \u001b[1m42s\u001b[0m 13ms/step - accuracy: 0.4462 - loss: 1.7225\n",
            "Epoch 23/50\n",
            "\u001b[1m3135/3135\u001b[0m \u001b[32m━━━━━━━━━━━━━━━━━━━━\u001b[0m\u001b[37m\u001b[0m \u001b[1m42s\u001b[0m 13ms/step - accuracy: 0.4399 - loss: 1.7520\n",
            "Epoch 24/50\n",
            "\u001b[1m3135/3135\u001b[0m \u001b[32m━━━━━━━━━━━━━━━━━━━━\u001b[0m\u001b[37m\u001b[0m \u001b[1m42s\u001b[0m 13ms/step - accuracy: 0.4381 - loss: 1.7834\n",
            "Epoch 25/50\n",
            "\u001b[1m3135/3135\u001b[0m \u001b[32m━━━━━━━━━━━━━━━━━━━━\u001b[0m\u001b[37m\u001b[0m \u001b[1m82s\u001b[0m 13ms/step - accuracy: 0.4498 - loss: 1.6978\n",
            "Epoch 26/50\n",
            "\u001b[1m3135/3135\u001b[0m \u001b[32m━━━━━━━━━━━━━━━━━━━━\u001b[0m\u001b[37m\u001b[0m \u001b[1m82s\u001b[0m 13ms/step - accuracy: 0.4228 - loss: 1.8796\n",
            "Epoch 27/50\n",
            "\u001b[1m3135/3135\u001b[0m \u001b[32m━━━━━━━━━━━━━━━━━━━━\u001b[0m\u001b[37m\u001b[0m \u001b[1m82s\u001b[0m 13ms/step - accuracy: 0.4520 - loss: 1.6817\n",
            "Epoch 28/50\n",
            "\u001b[1m3135/3135\u001b[0m \u001b[32m━━━━━━━━━━━━━━━━━━━━\u001b[0m\u001b[37m\u001b[0m \u001b[1m82s\u001b[0m 13ms/step - accuracy: 0.4541 - loss: 1.6722\n",
            "Epoch 29/50\n",
            "\u001b[1m3135/3135\u001b[0m \u001b[32m━━━━━━━━━━━━━━━━━━━━\u001b[0m\u001b[37m\u001b[0m \u001b[1m82s\u001b[0m 13ms/step - accuracy: 0.4511 - loss: 1.6962\n",
            "Epoch 30/50\n",
            "\u001b[1m3135/3135\u001b[0m \u001b[32m━━━━━━━━━━━━━━━━━━━━\u001b[0m\u001b[37m\u001b[0m \u001b[1m82s\u001b[0m 13ms/step - accuracy: 0.4524 - loss: 1.6872\n",
            "Epoch 31/50\n",
            "\u001b[1m3135/3135\u001b[0m \u001b[32m━━━━━━━━━━━━━━━━━━━━\u001b[0m\u001b[37m\u001b[0m \u001b[1m42s\u001b[0m 13ms/step - accuracy: 0.4544 - loss: 1.6742\n",
            "Epoch 32/50\n",
            "\u001b[1m3135/3135\u001b[0m \u001b[32m━━━━━━━━━━━━━━━━━━━━\u001b[0m\u001b[37m\u001b[0m \u001b[1m42s\u001b[0m 13ms/step - accuracy: 0.4530 - loss: 1.6891\n",
            "Epoch 33/50\n",
            "\u001b[1m3135/3135\u001b[0m \u001b[32m━━━━━━━━━━━━━━━━━━━━\u001b[0m\u001b[37m\u001b[0m \u001b[1m81s\u001b[0m 13ms/step - accuracy: 0.4462 - loss: 1.7243\n",
            "Epoch 34/50\n",
            "\u001b[1m3135/3135\u001b[0m \u001b[32m━━━━━━━━━━━━━━━━━━━━\u001b[0m\u001b[37m\u001b[0m \u001b[1m82s\u001b[0m 13ms/step - accuracy: 0.4600 - loss: 1.6556\n",
            "Epoch 35/50\n",
            "\u001b[1m3135/3135\u001b[0m \u001b[32m━━━━━━━━━━━━━━━━━━━━\u001b[0m\u001b[37m\u001b[0m \u001b[1m42s\u001b[0m 13ms/step - accuracy: 0.4606 - loss: 1.6489\n",
            "Epoch 36/50\n",
            "\u001b[1m3135/3135\u001b[0m \u001b[32m━━━━━━━━━━━━━━━━━━━━\u001b[0m\u001b[37m\u001b[0m \u001b[1m42s\u001b[0m 13ms/step - accuracy: 0.4614 - loss: 1.6479\n",
            "Epoch 37/50\n",
            "\u001b[1m3135/3135\u001b[0m \u001b[32m━━━━━━━━━━━━━━━━━━━━\u001b[0m\u001b[37m\u001b[0m \u001b[1m82s\u001b[0m 13ms/step - accuracy: 0.4614 - loss: 1.6444\n",
            "Epoch 38/50\n",
            "\u001b[1m3135/3135\u001b[0m \u001b[32m━━━━━━━━━━━━━━━━━━━━\u001b[0m\u001b[37m\u001b[0m \u001b[1m42s\u001b[0m 13ms/step - accuracy: 0.4620 - loss: 1.6420\n",
            "Epoch 39/50\n",
            "\u001b[1m3135/3135\u001b[0m \u001b[32m━━━━━━━━━━━━━━━━━━━━\u001b[0m\u001b[37m\u001b[0m \u001b[1m82s\u001b[0m 13ms/step - accuracy: 0.4379 - loss: 1.7721\n",
            "Epoch 40/50\n",
            "\u001b[1m3135/3135\u001b[0m \u001b[32m━━━━━━━━━━━━━━━━━━━━\u001b[0m\u001b[37m\u001b[0m \u001b[1m82s\u001b[0m 13ms/step - accuracy: 0.4557 - loss: 1.6822\n",
            "Epoch 41/50\n",
            "\u001b[1m3135/3135\u001b[0m \u001b[32m━━━━━━━━━━━━━━━━━━━━\u001b[0m\u001b[37m\u001b[0m \u001b[1m82s\u001b[0m 13ms/step - accuracy: 0.4412 - loss: 1.7529\n",
            "Epoch 42/50\n",
            "\u001b[1m3135/3135\u001b[0m \u001b[32m━━━━━━━━━━━━━━━━━━━━\u001b[0m\u001b[37m\u001b[0m \u001b[1m81s\u001b[0m 13ms/step - accuracy: 0.4496 - loss: 1.7030\n",
            "Epoch 43/50\n",
            "\u001b[1m3135/3135\u001b[0m \u001b[32m━━━━━━━━━━━━━━━━━━━━\u001b[0m\u001b[37m\u001b[0m \u001b[1m41s\u001b[0m 13ms/step - accuracy: 0.4322 - loss: 1.8111\n",
            "Epoch 44/50\n",
            "\u001b[1m3135/3135\u001b[0m \u001b[32m━━━━━━━━━━━━━━━━━━━━\u001b[0m\u001b[37m\u001b[0m \u001b[1m42s\u001b[0m 13ms/step - accuracy: 0.4387 - loss: 1.7540\n",
            "Epoch 45/50\n",
            "\u001b[1m3135/3135\u001b[0m \u001b[32m━━━━━━━━━━━━━━━━━━━━\u001b[0m\u001b[37m\u001b[0m \u001b[1m82s\u001b[0m 13ms/step - accuracy: 0.4489 - loss: 1.6995\n",
            "Epoch 46/50\n",
            "\u001b[1m3135/3135\u001b[0m \u001b[32m━━━━━━━━━━━━━━━━━━━━\u001b[0m\u001b[37m\u001b[0m \u001b[1m42s\u001b[0m 13ms/step - accuracy: 0.3823 - loss: 2.1388\n",
            "Epoch 47/50\n",
            "\u001b[1m3135/3135\u001b[0m \u001b[32m━━━━━━━━━━━━━━━━━━━━\u001b[0m\u001b[37m\u001b[0m \u001b[1m82s\u001b[0m 13ms/step - accuracy: 0.4194 - loss: 1.8779\n",
            "Epoch 48/50\n",
            "\u001b[1m3135/3135\u001b[0m \u001b[32m━━━━━━━━━━━━━━━━━━━━\u001b[0m\u001b[37m\u001b[0m \u001b[1m81s\u001b[0m 13ms/step - accuracy: 0.4358 - loss: 1.7685\n",
            "Epoch 49/50\n",
            "\u001b[1m3135/3135\u001b[0m \u001b[32m━━━━━━━━━━━━━━━━━━━━\u001b[0m\u001b[37m\u001b[0m \u001b[1m41s\u001b[0m 13ms/step - accuracy: 0.3225 - loss: 2.6316\n",
            "Epoch 50/50\n",
            "\u001b[1m3135/3135\u001b[0m \u001b[32m━━━━━━━━━━━━━━━━━━━━\u001b[0m\u001b[37m\u001b[0m \u001b[1m42s\u001b[0m 13ms/step - accuracy: 0.3963 - loss: 2.0293\n",
            "Epoch 1/50\n",
            "\u001b[1m3135/3135\u001b[0m \u001b[32m━━━━━━━━━━━━━━━━━━━━\u001b[0m\u001b[37m\u001b[0m \u001b[1m105s\u001b[0m 33ms/step - accuracy: 0.1160 - loss: 3.3807\n",
            "Epoch 2/50\n",
            "\u001b[1m3135/3135\u001b[0m \u001b[32m━━━━━━━━━━━━━━━━━━━━\u001b[0m\u001b[37m\u001b[0m \u001b[1m102s\u001b[0m 33ms/step - accuracy: 0.3017 - loss: 2.4223\n",
            "Epoch 3/50\n",
            "\u001b[1m3135/3135\u001b[0m \u001b[32m━━━━━━━━━━━━━━━━━━━━\u001b[0m\u001b[37m\u001b[0m \u001b[1m142s\u001b[0m 33ms/step - accuracy: 0.3809 - loss: 2.0359\n",
            "Epoch 4/50\n",
            "\u001b[1m3135/3135\u001b[0m \u001b[32m━━━━━━━━━━━━━━━━━━━━\u001b[0m\u001b[37m\u001b[0m \u001b[1m144s\u001b[0m 33ms/step - accuracy: 0.4130 - loss: 1.8852\n",
            "Epoch 5/50\n",
            "\u001b[1m3135/3135\u001b[0m \u001b[32m━━━━━━━━━━━━━━━━━━━━\u001b[0m\u001b[37m\u001b[0m \u001b[1m141s\u001b[0m 33ms/step - accuracy: 0.4298 - loss: 1.8064\n",
            "Epoch 6/50\n",
            "\u001b[1m3135/3135\u001b[0m \u001b[32m━━━━━━━━━━━━━━━━━━━━\u001b[0m\u001b[37m\u001b[0m \u001b[1m142s\u001b[0m 33ms/step - accuracy: 0.4440 - loss: 1.7491\n",
            "Epoch 7/50\n",
            "\u001b[1m3135/3135\u001b[0m \u001b[32m━━━━━━━━━━━━━━━━━━━━\u001b[0m\u001b[37m\u001b[0m \u001b[1m141s\u001b[0m 33ms/step - accuracy: 0.4454 - loss: 1.7238\n",
            "Epoch 8/50\n",
            "\u001b[1m3135/3135\u001b[0m \u001b[32m━━━━━━━━━━━━━━━━━━━━\u001b[0m\u001b[37m\u001b[0m \u001b[1m144s\u001b[0m 33ms/step - accuracy: 0.4538 - loss: 1.6841\n",
            "Epoch 9/50\n",
            "\u001b[1m3135/3135\u001b[0m \u001b[32m━━━━━━━━━━━━━━━━━━━━\u001b[0m\u001b[37m\u001b[0m \u001b[1m103s\u001b[0m 33ms/step - accuracy: 0.4578 - loss: 1.6646\n",
            "Epoch 10/50\n",
            "\u001b[1m3135/3135\u001b[0m \u001b[32m━━━━━━━━━━━━━━━━━━━━\u001b[0m\u001b[37m\u001b[0m \u001b[1m143s\u001b[0m 33ms/step - accuracy: 0.4612 - loss: 1.6441\n",
            "Epoch 11/50\n",
            "\u001b[1m3135/3135\u001b[0m \u001b[32m━━━━━━━━━━━━━━━━━━━━\u001b[0m\u001b[37m\u001b[0m \u001b[1m142s\u001b[0m 33ms/step - accuracy: 0.4656 - loss: 1.6251\n",
            "Epoch 12/50\n",
            "\u001b[1m3135/3135\u001b[0m \u001b[32m━━━━━━━━━━━━━━━━━━━━\u001b[0m\u001b[37m\u001b[0m \u001b[1m143s\u001b[0m 34ms/step - accuracy: 0.4697 - loss: 1.6099\n",
            "Epoch 13/50\n",
            "\u001b[1m3135/3135\u001b[0m \u001b[32m━━━━━━━━━━━━━━━━━━━━\u001b[0m\u001b[37m\u001b[0m \u001b[1m141s\u001b[0m 33ms/step - accuracy: 0.4716 - loss: 1.5972\n",
            "Epoch 14/50\n",
            "\u001b[1m3135/3135\u001b[0m \u001b[32m━━━━━━━━━━━━━━━━━━━━\u001b[0m\u001b[37m\u001b[0m \u001b[1m142s\u001b[0m 33ms/step - accuracy: 0.4747 - loss: 1.5859\n",
            "Epoch 15/50\n",
            "\u001b[1m3135/3135\u001b[0m \u001b[32m━━━━━━━━━━━━━━━━━━━━\u001b[0m\u001b[37m\u001b[0m \u001b[1m141s\u001b[0m 33ms/step - accuracy: 0.4765 - loss: 1.5757\n",
            "Epoch 16/50\n",
            "\u001b[1m3135/3135\u001b[0m \u001b[32m━━━━━━━━━━━━━━━━━━━━\u001b[0m\u001b[37m\u001b[0m \u001b[1m143s\u001b[0m 33ms/step - accuracy: 0.4791 - loss: 1.5689\n",
            "Epoch 17/50\n",
            "\u001b[1m3135/3135\u001b[0m \u001b[32m━━━━━━━━━━━━━━━━━━━━\u001b[0m\u001b[37m\u001b[0m \u001b[1m141s\u001b[0m 33ms/step - accuracy: 0.4815 - loss: 1.5602\n",
            "Epoch 18/50\n",
            "\u001b[1m3135/3135\u001b[0m \u001b[32m━━━━━━━━━━━━━━━━━━━━\u001b[0m\u001b[37m\u001b[0m \u001b[1m105s\u001b[0m 34ms/step - accuracy: 0.4811 - loss: 1.5601\n",
            "Epoch 19/50\n",
            "\u001b[1m3135/3135\u001b[0m \u001b[32m━━━━━━━━━━━━━━━━━━━━\u001b[0m\u001b[37m\u001b[0m \u001b[1m141s\u001b[0m 33ms/step - accuracy: 0.4860 - loss: 1.5444\n",
            "Epoch 20/50\n",
            "\u001b[1m3135/3135\u001b[0m \u001b[32m━━━━━━━━━━━━━━━━━━━━\u001b[0m\u001b[37m\u001b[0m \u001b[1m106s\u001b[0m 34ms/step - accuracy: 0.4852 - loss: 1.5463\n",
            "Epoch 21/50\n",
            "\u001b[1m3135/3135\u001b[0m \u001b[32m━━━━━━━━━━━━━━━━━━━━\u001b[0m\u001b[37m\u001b[0m \u001b[1m105s\u001b[0m 34ms/step - accuracy: 0.4905 - loss: 1.5313\n",
            "Epoch 22/50\n",
            "\u001b[1m3135/3135\u001b[0m \u001b[32m━━━━━━━━━━━━━━━━━━━━\u001b[0m\u001b[37m\u001b[0m \u001b[1m108s\u001b[0m 34ms/step - accuracy: 0.4878 - loss: 1.5298\n",
            "Epoch 23/50\n",
            "\u001b[1m3135/3135\u001b[0m \u001b[32m━━━━━━━━━━━━━━━━━━━━\u001b[0m\u001b[37m\u001b[0m \u001b[1m139s\u001b[0m 33ms/step - accuracy: 0.4912 - loss: 1.5227\n",
            "Epoch 24/50\n",
            "\u001b[1m3135/3135\u001b[0m \u001b[32m━━━━━━━━━━━━━━━━━━━━\u001b[0m\u001b[37m\u001b[0m \u001b[1m105s\u001b[0m 33ms/step - accuracy: 0.4929 - loss: 1.5154\n",
            "Epoch 25/50\n",
            "\u001b[1m3135/3135\u001b[0m \u001b[32m━━━━━━━━━━━━━━━━━━━━\u001b[0m\u001b[37m\u001b[0m \u001b[1m141s\u001b[0m 33ms/step - accuracy: 0.4926 - loss: 1.5101\n",
            "Epoch 26/50\n",
            "\u001b[1m3135/3135\u001b[0m \u001b[32m━━━━━━━━━━━━━━━━━━━━\u001b[0m\u001b[37m\u001b[0m \u001b[1m143s\u001b[0m 33ms/step - accuracy: 0.4953 - loss: 1.5056\n",
            "Epoch 27/50\n",
            "\u001b[1m3135/3135\u001b[0m \u001b[32m━━━━━━━━━━━━━━━━━━━━\u001b[0m\u001b[37m\u001b[0m \u001b[1m141s\u001b[0m 33ms/step - accuracy: 0.4977 - loss: 1.4995\n",
            "Epoch 28/50\n",
            "\u001b[1m3135/3135\u001b[0m \u001b[32m━━━━━━━━━━━━━━━━━━━━\u001b[0m\u001b[37m\u001b[0m \u001b[1m144s\u001b[0m 34ms/step - accuracy: 0.4978 - loss: 1.5021\n",
            "Epoch 29/50\n",
            "\u001b[1m3135/3135\u001b[0m \u001b[32m━━━━━━━━━━━━━━━━━━━━\u001b[0m\u001b[37m\u001b[0m \u001b[1m141s\u001b[0m 33ms/step - accuracy: 0.4962 - loss: 1.4984\n",
            "Epoch 30/50\n",
            "\u001b[1m3135/3135\u001b[0m \u001b[32m━━━━━━━━━━━━━━━━━━━━\u001b[0m\u001b[37m\u001b[0m \u001b[1m107s\u001b[0m 34ms/step - accuracy: 0.5001 - loss: 1.4927\n",
            "Epoch 31/50\n",
            "\u001b[1m3135/3135\u001b[0m \u001b[32m━━━━━━━━━━━━━━━━━━━━\u001b[0m\u001b[37m\u001b[0m \u001b[1m140s\u001b[0m 33ms/step - accuracy: 0.4989 - loss: 1.4883\n",
            "Epoch 32/50\n",
            "\u001b[1m3135/3135\u001b[0m \u001b[32m━━━━━━━━━━━━━━━━━━━━\u001b[0m\u001b[37m\u001b[0m \u001b[1m144s\u001b[0m 34ms/step - accuracy: 0.4991 - loss: 1.4846\n",
            "Epoch 33/50\n",
            "\u001b[1m3135/3135\u001b[0m \u001b[32m━━━━━━━━━━━━━━━━━━━━\u001b[0m\u001b[37m\u001b[0m \u001b[1m105s\u001b[0m 34ms/step - accuracy: 0.5009 - loss: 1.4830\n",
            "Epoch 34/50\n",
            "\u001b[1m3135/3135\u001b[0m \u001b[32m━━━━━━━━━━━━━━━━━━━━\u001b[0m\u001b[37m\u001b[0m \u001b[1m142s\u001b[0m 34ms/step - accuracy: 0.5012 - loss: 1.4811\n",
            "Epoch 35/50\n",
            "\u001b[1m3135/3135\u001b[0m \u001b[32m━━━━━━━━━━━━━━━━━━━━\u001b[0m\u001b[37m\u001b[0m \u001b[1m143s\u001b[0m 34ms/step - accuracy: 0.5024 - loss: 1.4809\n",
            "Epoch 36/50\n",
            "\u001b[1m3135/3135\u001b[0m \u001b[32m━━━━━━━━━━━━━━━━━━━━\u001b[0m\u001b[37m\u001b[0m \u001b[1m141s\u001b[0m 34ms/step - accuracy: 0.5020 - loss: 1.4765\n",
            "Epoch 37/50\n",
            "\u001b[1m3135/3135\u001b[0m \u001b[32m━━━━━━━━━━━━━━━━━━━━\u001b[0m\u001b[37m\u001b[0m \u001b[1m144s\u001b[0m 34ms/step - accuracy: 0.5060 - loss: 1.4686\n",
            "Epoch 38/50\n",
            "\u001b[1m3135/3135\u001b[0m \u001b[32m━━━━━━━━━━━━━━━━━━━━\u001b[0m\u001b[37m\u001b[0m \u001b[1m140s\u001b[0m 34ms/step - accuracy: 0.5028 - loss: 1.4752\n",
            "Epoch 39/50\n",
            "\u001b[1m3135/3135\u001b[0m \u001b[32m━━━━━━━━━━━━━━━━━━━━\u001b[0m\u001b[37m\u001b[0m \u001b[1m148s\u001b[0m 35ms/step - accuracy: 0.5036 - loss: 1.4710\n",
            "Epoch 40/50\n",
            "\u001b[1m3135/3135\u001b[0m \u001b[32m━━━━━━━━━━━━━━━━━━━━\u001b[0m\u001b[37m\u001b[0m \u001b[1m107s\u001b[0m 34ms/step - accuracy: 0.5035 - loss: 1.4659\n",
            "Epoch 41/50\n",
            "\u001b[1m3135/3135\u001b[0m \u001b[32m━━━━━━━━━━━━━━━━━━━━\u001b[0m\u001b[37m\u001b[0m \u001b[1m143s\u001b[0m 34ms/step - accuracy: 0.5054 - loss: 1.4659\n",
            "Epoch 42/50\n",
            "\u001b[1m3135/3135\u001b[0m \u001b[32m━━━━━━━━━━━━━━━━━━━━\u001b[0m\u001b[37m\u001b[0m \u001b[1m140s\u001b[0m 34ms/step - accuracy: 0.5079 - loss: 1.4581\n",
            "Epoch 43/50\n",
            "\u001b[1m3135/3135\u001b[0m \u001b[32m━━━━━━━━━━━━━━━━━━━━\u001b[0m\u001b[37m\u001b[0m \u001b[1m143s\u001b[0m 34ms/step - accuracy: 0.5064 - loss: 1.4582\n",
            "Epoch 44/50\n",
            "\u001b[1m3135/3135\u001b[0m \u001b[32m━━━━━━━━━━━━━━━━━━━━\u001b[0m\u001b[37m\u001b[0m \u001b[1m142s\u001b[0m 34ms/step - accuracy: 0.5075 - loss: 1.4570\n",
            "Epoch 45/50\n",
            "\u001b[1m3135/3135\u001b[0m \u001b[32m━━━━━━━━━━━━━━━━━━━━\u001b[0m\u001b[37m\u001b[0m \u001b[1m143s\u001b[0m 34ms/step - accuracy: 0.5095 - loss: 1.4512\n",
            "Epoch 46/50\n",
            "\u001b[1m3135/3135\u001b[0m \u001b[32m━━━━━━━━━━━━━━━━━━━━\u001b[0m\u001b[37m\u001b[0m \u001b[1m140s\u001b[0m 34ms/step - accuracy: 0.5089 - loss: 1.4516\n",
            "Epoch 47/50\n",
            "\u001b[1m3135/3135\u001b[0m \u001b[32m━━━━━━━━━━━━━━━━━━━━\u001b[0m\u001b[37m\u001b[0m \u001b[1m143s\u001b[0m 34ms/step - accuracy: 0.5127 - loss: 1.4427\n",
            "Epoch 48/50\n",
            "\u001b[1m3135/3135\u001b[0m \u001b[32m━━━━━━━━━━━━━━━━━━━━\u001b[0m\u001b[37m\u001b[0m \u001b[1m106s\u001b[0m 34ms/step - accuracy: 0.5106 - loss: 1.4459\n",
            "Epoch 49/50\n",
            "\u001b[1m3135/3135\u001b[0m \u001b[32m━━━━━━━━━━━━━━━━━━━━\u001b[0m\u001b[37m\u001b[0m \u001b[1m107s\u001b[0m 34ms/step - accuracy: 0.5094 - loss: 1.4513\n",
            "Epoch 50/50\n",
            "\u001b[1m3135/3135\u001b[0m \u001b[32m━━━━━━━━━━━━━━━━━━━━\u001b[0m\u001b[37m\u001b[0m \u001b[1m143s\u001b[0m 34ms/step - accuracy: 0.5100 - loss: 1.4477\n",
            "Epoch 1/50\n",
            "\u001b[1m3135/3135\u001b[0m \u001b[32m━━━━━━━━━━━━━━━━━━━━\u001b[0m\u001b[37m\u001b[0m \u001b[1m138s\u001b[0m 43ms/step - accuracy: 0.1271 - loss: 3.2934\n",
            "Epoch 2/50\n",
            "\u001b[1m3135/3135\u001b[0m \u001b[32m━━━━━━━━━━━━━━━━━━━━\u001b[0m\u001b[37m\u001b[0m \u001b[1m137s\u001b[0m 44ms/step - accuracy: 0.3452 - loss: 2.2673\n",
            "Epoch 3/50\n",
            "\u001b[1m3135/3135\u001b[0m \u001b[32m━━━━━━━━━━━━━━━━━━━━\u001b[0m\u001b[37m\u001b[0m \u001b[1m136s\u001b[0m 43ms/step - accuracy: 0.4128 - loss: 1.8995\n",
            "Epoch 4/50\n",
            "\u001b[1m3135/3135\u001b[0m \u001b[32m━━━━━━━━━━━━━━━━━━━━\u001b[0m\u001b[37m\u001b[0m \u001b[1m134s\u001b[0m 43ms/step - accuracy: 0.4306 - loss: 1.8015\n",
            "Epoch 5/50\n",
            "\u001b[1m3135/3135\u001b[0m \u001b[32m━━━━━━━━━━━━━━━━━━━━\u001b[0m\u001b[37m\u001b[0m \u001b[1m145s\u001b[0m 44ms/step - accuracy: 0.4405 - loss: 1.7511\n",
            "Epoch 6/50\n",
            "\u001b[1m3135/3135\u001b[0m \u001b[32m━━━━━━━━━━━━━━━━━━━━\u001b[0m\u001b[37m\u001b[0m \u001b[1m143s\u001b[0m 44ms/step - accuracy: 0.4485 - loss: 1.7145\n",
            "Epoch 7/50\n",
            "\u001b[1m3135/3135\u001b[0m \u001b[32m━━━━━━━━━━━━━━━━━━━━\u001b[0m\u001b[37m\u001b[0m \u001b[1m143s\u001b[0m 44ms/step - accuracy: 0.4558 - loss: 1.6822\n",
            "Epoch 8/50\n",
            "\u001b[1m3135/3135\u001b[0m \u001b[32m━━━━━━━━━━━━━━━━━━━━\u001b[0m\u001b[37m\u001b[0m \u001b[1m141s\u001b[0m 44ms/step - accuracy: 0.4578 - loss: 1.6654\n",
            "Epoch 9/50\n",
            "\u001b[1m3135/3135\u001b[0m \u001b[32m━━━━━━━━━━━━━━━━━━━━\u001b[0m\u001b[37m\u001b[0m \u001b[1m135s\u001b[0m 43ms/step - accuracy: 0.4611 - loss: 1.6428\n",
            "Epoch 10/50\n",
            "\u001b[1m3135/3135\u001b[0m \u001b[32m━━━━━━━━━━━━━━━━━━━━\u001b[0m\u001b[37m\u001b[0m \u001b[1m137s\u001b[0m 44ms/step - accuracy: 0.4666 - loss: 1.6254\n",
            "Epoch 11/50\n",
            "\u001b[1m3135/3135\u001b[0m \u001b[32m━━━━━━━━━━━━━━━━━━━━\u001b[0m\u001b[37m\u001b[0m \u001b[1m142s\u001b[0m 44ms/step - accuracy: 0.4699 - loss: 1.6170\n",
            "Epoch 12/50\n",
            "\u001b[1m3135/3135\u001b[0m \u001b[32m━━━━━━━━━━━━━━━━━━━━\u001b[0m\u001b[37m\u001b[0m \u001b[1m140s\u001b[0m 43ms/step - accuracy: 0.4709 - loss: 1.6010\n",
            "Epoch 13/50\n",
            "\u001b[1m3135/3135\u001b[0m \u001b[32m━━━━━━━━━━━━━━━━━━━━\u001b[0m\u001b[37m\u001b[0m \u001b[1m142s\u001b[0m 43ms/step - accuracy: 0.4724 - loss: 1.5916\n",
            "Epoch 14/50\n",
            "\u001b[1m3135/3135\u001b[0m \u001b[32m━━━━━━━━━━━━━━━━━━━━\u001b[0m\u001b[37m\u001b[0m \u001b[1m143s\u001b[0m 44ms/step - accuracy: 0.4767 - loss: 1.5794\n",
            "Epoch 15/50\n",
            "\u001b[1m3135/3135\u001b[0m \u001b[32m━━━━━━━━━━━━━━━━━━━━\u001b[0m\u001b[37m\u001b[0m \u001b[1m142s\u001b[0m 44ms/step - accuracy: 0.4793 - loss: 1.5690\n",
            "Epoch 16/50\n",
            "\u001b[1m3135/3135\u001b[0m \u001b[32m━━━━━━━━━━━━━━━━━━━━\u001b[0m\u001b[37m\u001b[0m \u001b[1m143s\u001b[0m 44ms/step - accuracy: 0.4794 - loss: 1.5678\n",
            "Epoch 17/50\n",
            "\u001b[1m3135/3135\u001b[0m \u001b[32m━━━━━━━━━━━━━━━━━━━━\u001b[0m\u001b[37m\u001b[0m \u001b[1m138s\u001b[0m 44ms/step - accuracy: 0.4830 - loss: 1.5552\n",
            "Epoch 18/50\n",
            "\u001b[1m3135/3135\u001b[0m \u001b[32m━━━━━━━━━━━━━━━━━━━━\u001b[0m\u001b[37m\u001b[0m \u001b[1m142s\u001b[0m 44ms/step - accuracy: 0.4831 - loss: 1.5570\n",
            "Epoch 19/50\n",
            "\u001b[1m3135/3135\u001b[0m \u001b[32m━━━━━━━━━━━━━━━━━━━━\u001b[0m\u001b[37m\u001b[0m \u001b[1m136s\u001b[0m 43ms/step - accuracy: 0.4838 - loss: 1.5540\n",
            "Epoch 20/50\n",
            "\u001b[1m3135/3135\u001b[0m \u001b[32m━━━━━━━━━━━━━━━━━━━━\u001b[0m\u001b[37m\u001b[0m \u001b[1m138s\u001b[0m 44ms/step - accuracy: 0.4854 - loss: 1.5425\n",
            "Epoch 21/50\n",
            "\u001b[1m3135/3135\u001b[0m \u001b[32m━━━━━━━━━━━━━━━━━━━━\u001b[0m\u001b[37m\u001b[0m \u001b[1m141s\u001b[0m 44ms/step - accuracy: 0.4864 - loss: 1.5365\n",
            "Epoch 22/50\n",
            "\u001b[1m3135/3135\u001b[0m \u001b[32m━━━━━━━━━━━━━━━━━━━━\u001b[0m\u001b[37m\u001b[0m \u001b[1m142s\u001b[0m 44ms/step - accuracy: 0.4877 - loss: 1.5361\n",
            "Epoch 23/50\n",
            "\u001b[1m3135/3135\u001b[0m \u001b[32m━━━━━━━━━━━━━━━━━━━━\u001b[0m\u001b[37m\u001b[0m \u001b[1m140s\u001b[0m 43ms/step - accuracy: 0.4868 - loss: 1.5354\n",
            "Epoch 24/50\n",
            "\u001b[1m3135/3135\u001b[0m \u001b[32m━━━━━━━━━━━━━━━━━━━━\u001b[0m\u001b[37m\u001b[0m \u001b[1m142s\u001b[0m 43ms/step - accuracy: 0.4890 - loss: 1.5232\n",
            "Epoch 25/50\n",
            "\u001b[1m3135/3135\u001b[0m \u001b[32m━━━━━━━━━━━━━━━━━━━━\u001b[0m\u001b[37m\u001b[0m \u001b[1m137s\u001b[0m 44ms/step - accuracy: 0.4925 - loss: 1.5154\n",
            "Epoch 26/50\n",
            "\u001b[1m3135/3135\u001b[0m \u001b[32m━━━━━━━━━━━━━━━━━━━━\u001b[0m\u001b[37m\u001b[0m \u001b[1m139s\u001b[0m 43ms/step - accuracy: 0.4899 - loss: 1.5253\n",
            "Epoch 27/50\n",
            "\u001b[1m3135/3135\u001b[0m \u001b[32m━━━━━━━━━━━━━━━━━━━━\u001b[0m\u001b[37m\u001b[0m \u001b[1m138s\u001b[0m 44ms/step - accuracy: 0.4926 - loss: 1.5129\n",
            "Epoch 28/50\n",
            "\u001b[1m3135/3135\u001b[0m \u001b[32m━━━━━━━━━━━━━━━━━━━━\u001b[0m\u001b[37m\u001b[0m \u001b[1m140s\u001b[0m 43ms/step - accuracy: 0.4938 - loss: 1.5126\n",
            "Epoch 29/50\n",
            "\u001b[1m3135/3135\u001b[0m \u001b[32m━━━━━━━━━━━━━━━━━━━━\u001b[0m\u001b[37m\u001b[0m \u001b[1m142s\u001b[0m 43ms/step - accuracy: 0.4918 - loss: 1.5224\n",
            "Epoch 30/50\n",
            "\u001b[1m3135/3135\u001b[0m \u001b[32m━━━━━━━━━━━━━━━━━━━━\u001b[0m\u001b[37m\u001b[0m \u001b[1m142s\u001b[0m 43ms/step - accuracy: 0.4945 - loss: 1.5056\n",
            "Epoch 31/50\n",
            "\u001b[1m3135/3135\u001b[0m \u001b[32m━━━━━━━━━━━━━━━━━━━━\u001b[0m\u001b[37m\u001b[0m \u001b[1m143s\u001b[0m 43ms/step - accuracy: 0.4941 - loss: 1.5064\n",
            "Epoch 32/50\n",
            "\u001b[1m3135/3135\u001b[0m \u001b[32m━━━━━━━━━━━━━━━━━━━━\u001b[0m\u001b[37m\u001b[0m \u001b[1m138s\u001b[0m 44ms/step - accuracy: 0.4957 - loss: 1.5070\n",
            "Epoch 33/50\n",
            "\u001b[1m3135/3135\u001b[0m \u001b[32m━━━━━━━━━━━━━━━━━━━━\u001b[0m\u001b[37m\u001b[0m \u001b[1m137s\u001b[0m 44ms/step - accuracy: 0.4964 - loss: 1.4992\n",
            "Epoch 34/50\n",
            "\u001b[1m3135/3135\u001b[0m \u001b[32m━━━━━━━━━━━━━━━━━━━━\u001b[0m\u001b[37m\u001b[0m \u001b[1m138s\u001b[0m 44ms/step - accuracy: 0.4966 - loss: 1.5027\n",
            "Epoch 35/50\n",
            "\u001b[1m3135/3135\u001b[0m \u001b[32m━━━━━━━━━━━━━━━━━━━━\u001b[0m\u001b[37m\u001b[0m \u001b[1m141s\u001b[0m 44ms/step - accuracy: 0.4959 - loss: 1.4994\n",
            "Epoch 36/50\n",
            "\u001b[1m3135/3135\u001b[0m \u001b[32m━━━━━━━━━━━━━━━━━━━━\u001b[0m\u001b[37m\u001b[0m \u001b[1m136s\u001b[0m 43ms/step - accuracy: 0.5006 - loss: 1.4852\n",
            "Epoch 37/50\n",
            "\u001b[1m3135/3135\u001b[0m \u001b[32m━━━━━━━━━━━━━━━━━━━━\u001b[0m\u001b[37m\u001b[0m \u001b[1m142s\u001b[0m 43ms/step - accuracy: 0.4998 - loss: 1.4869\n",
            "Epoch 38/50\n",
            "\u001b[1m3135/3135\u001b[0m \u001b[32m━━━━━━━━━━━━━━━━━━━━\u001b[0m\u001b[37m\u001b[0m \u001b[1m143s\u001b[0m 44ms/step - accuracy: 0.5005 - loss: 1.4848\n",
            "Epoch 39/50\n",
            "\u001b[1m3135/3135\u001b[0m \u001b[32m━━━━━━━━━━━━━━━━━━━━\u001b[0m\u001b[37m\u001b[0m \u001b[1m143s\u001b[0m 44ms/step - accuracy: 0.5010 - loss: 1.4848\n",
            "Epoch 40/50\n",
            "\u001b[1m3135/3135\u001b[0m \u001b[32m━━━━━━━━━━━━━━━━━━━━\u001b[0m\u001b[37m\u001b[0m \u001b[1m138s\u001b[0m 44ms/step - accuracy: 0.5013 - loss: 1.4830\n",
            "Epoch 41/50\n",
            "\u001b[1m3135/3135\u001b[0m \u001b[32m━━━━━━━━━━━━━━━━━━━━\u001b[0m\u001b[37m\u001b[0m \u001b[1m142s\u001b[0m 44ms/step - accuracy: 0.5008 - loss: 1.4851\n",
            "Epoch 42/50\n",
            "\u001b[1m3135/3135\u001b[0m \u001b[32m━━━━━━━━━━━━━━━━━━━━\u001b[0m\u001b[37m\u001b[0m \u001b[1m143s\u001b[0m 44ms/step - accuracy: 0.4994 - loss: 1.4848\n",
            "Epoch 43/50\n",
            "\u001b[1m3135/3135\u001b[0m \u001b[32m━━━━━━━━━━━━━━━━━━━━\u001b[0m\u001b[37m\u001b[0m \u001b[1m139s\u001b[0m 43ms/step - accuracy: 0.5006 - loss: 1.4838\n",
            "Epoch 44/50\n",
            "\u001b[1m3135/3135\u001b[0m \u001b[32m━━━━━━━━━━━━━━━━━━━━\u001b[0m\u001b[37m\u001b[0m \u001b[1m138s\u001b[0m 44ms/step - accuracy: 0.5002 - loss: 1.4816\n",
            "Epoch 45/50\n",
            "\u001b[1m3135/3135\u001b[0m \u001b[32m━━━━━━━━━━━━━━━━━━━━\u001b[0m\u001b[37m\u001b[0m \u001b[1m142s\u001b[0m 44ms/step - accuracy: 0.5007 - loss: 1.4823\n",
            "Epoch 46/50\n",
            "\u001b[1m3135/3135\u001b[0m \u001b[32m━━━━━━━━━━━━━━━━━━━━\u001b[0m\u001b[37m\u001b[0m \u001b[1m138s\u001b[0m 44ms/step - accuracy: 0.5016 - loss: 1.4832\n",
            "Epoch 47/50\n",
            "\u001b[1m3135/3135\u001b[0m \u001b[32m━━━━━━━━━━━━━━━━━━━━\u001b[0m\u001b[37m\u001b[0m \u001b[1m138s\u001b[0m 44ms/step - accuracy: 0.5015 - loss: 1.4820\n",
            "Epoch 48/50\n",
            "\u001b[1m3135/3135\u001b[0m \u001b[32m━━━━━━━━━━━━━━━━━━━━\u001b[0m\u001b[37m\u001b[0m \u001b[1m138s\u001b[0m 44ms/step - accuracy: 0.5046 - loss: 1.4710\n",
            "Epoch 49/50\n",
            "\u001b[1m3135/3135\u001b[0m \u001b[32m━━━━━━━━━━━━━━━━━━━━\u001b[0m\u001b[37m\u001b[0m \u001b[1m142s\u001b[0m 44ms/step - accuracy: 0.5045 - loss: 1.4691\n",
            "Epoch 50/50\n",
            "\u001b[1m3135/3135\u001b[0m \u001b[32m━━━━━━━━━━━━━━━━━━━━\u001b[0m\u001b[37m\u001b[0m \u001b[1m142s\u001b[0m 44ms/step - accuracy: 0.5037 - loss: 1.4740\n",
            "\n",
            "Generated music with RNN:\n",
            "X:1\n",
            "T:Alexander's\n",
            "Z: id:dc-hornpipe-1\n",
            "M:C|\n",
            "L:1/8\n",
            "K:|\n",
            "M:1/de\n",
            "d: e26/4 K:1/8\n",
            "K:F Maroa\n",
            "og|egdc affg|dged dfed|ffge eaee|faed dage|feff afge|fagg adfd|gedg gefd|afff afaf|fadd ggaf|edfd eeegagfeadae dagf|gedf gfdg|addg aegfngggeffae aaefggfd|dge gafdaaa afadgddf aff edfc|gfde fadg|dfd gdfdeaf fgadagd geeangfg gddgafe fffdafge|gge aefddad efffadf eggfedfg|aBBA F2d|feed gffd|aeeg fffd|fedf feec|fafe dfff|gff gfdfggededdg gfaeeefd|afdd eaef|aea afdaefdgadd efgeagagaaff efae ggfcdgf daefffafeaea gafa|a\n",
            "\n",
            "Generated music with LSTM:\n",
            "X:1\n",
            "T:Alexander's\n",
            "Z: id:dc-hornpipe-1\n",
            "M:C|\n",
            "L:1/8\n",
            "K:A Major dc|eBG2 ceef|dddd gdgg|dBGA G2A|A2GG EDGA|!\n",
            "AABF F2G|dfdf e2B2|BGA2 BAF2|ABAG GGA|]!\n",
            "\n",
            "X:13\n",
            "T:Frlla oe Crols\n",
            "Z: id:dc-reed-198\n",
            "M:C\n",
            "L:1/8\n",
            "K:A Major\n",
            "AGAD DAEF|B3GD EGBF|A3F BFEF|BGBA B2B|!\n",
            "A2G2 DFAB|ABFG EFBF|BABA ABBF|EAEE FEG2|]!\n",
            "\n",
            "X:362\n",
            "T:Prdliell\n",
            "s: id:dc-reel-108\n",
            "M:C\n",
            "L:1/8\n",
            "K:A Mixolydian\n",
            "dd|BAFA c2dAdA|e2dd eeed|eddd cAGc|]edA G2:|!\n",
            "\n",
            "X:162\n",
            "T:Kusny Conn\n",
            "Z: id:dc-reel-104\n",
            "M:C\n",
            "L:1/8\n",
            "K:G Dorian\n",
            "e|dBde fdeedddec deBA|BFcec e2dec|f2\n",
            "gfag aegf\n",
            "\n",
            "Generated music with GRU:\n",
            "X:1\n",
            "T:Alexander's\n",
            "Z: id:dc-hornpipe-1\n",
            "M:C|\n",
            "L:1/8\n",
            "K:A Mixolydian\n",
            "D|ddff dAGA|G2FB GAF2|B2AG AFEB|G2FE AFFE:|!\n",
            "gddf dgdg|e2dd adeg|eddg edBd|egea e2eg|!\n",
            "g2fg adeg|ffga efge|gefde fddd|cfeec efdB|!\n",
            "\n",
            "X:31\n",
            "T:Bal oe tha Rhleeo'sfrhe\n",
            "Z: id:dc-reel-20\n",
            "M:C\n",
            "L:1/8\n",
            "K:E Mixolydian\n",
            "A,|F2BG A2DG|A3EG BGGA|DGAF B2BA|E2FG DFDD|!\n",
            "G2AE ADFE|A2AA BAEA|G2dd geBG|A2AA DEED|!\n",
            "D3AG BFFE|B2dd gdBd|d2Ad dBBF|GFFE GED2:|!\n",
            "defe edBA|c2af fded|d3Bc BGAB|d2ef edB2|]!\n",
            "fdfa a2ef|d3de ffBd|f2ef dded|f2ef d2:2|!\n",
            "\n",
            "X:338\n",
            "T:Wail oh\n"
          ]
        }
      ]
    },
    {
      "cell_type": "markdown",
      "source": [
        "#MIDI File Generation from generated notes Text"
      ],
      "metadata": {
        "id": "eJA6l7f6rBQH"
      }
    },
    {
      "cell_type": "code",
      "source": [
        "# Function to generate and save a MIDI file from ABC text\n",
        "def save_to_midi_from_abc(abc_text, file_name=\"generated_music.mid\", tempo=120):\n",
        "    # Mapping ABC notes to MIDI note values (central octave)\n",
        "    note_to_midi = {\n",
        "        'C': 60, 'D': 62, 'E': 64, 'F': 65, 'G': 67, 'A': 69, 'B': 71,\n",
        "        'c': 72, 'd': 74, 'e': 76, 'f': 77, 'g': 79, 'a': 81, 'b': 83\n",
        "    }\n",
        "    # Extract notes from ABC text using regex\n",
        "    notes = re.findall(r'[A-Ga-g][#]?', abc_text)\n",
        "\n",
        "    # Convert notes to MIDI values\n",
        "    midi_notes = [note_to_midi[note] for note in notes if note in note_to_midi]\n",
        "\n",
        "    midi = MIDIFile(1)  # Create a single-track MIDI file\n",
        "    track = 0\n",
        "    time = 0  # Start time in seconds\n",
        "\n",
        "    midi.addTrackName(track, time, \"Generated Track\")\n",
        "    midi.addTempo(track, time, tempo)\n",
        "\n",
        "    # Set parameters for each note\n",
        "    channel = 0\n",
        "    volume = 100  # Note volume\n",
        "    duration = 0.5  # Note duration in seconds\n",
        "\n",
        "    # Add each note to the MIDI file\n",
        "    for pitch in midi_notes:\n",
        "        midi.addNote(track, channel, pitch, time, duration, volume)\n",
        "        time += duration\n",
        "\n",
        "    # Save MIDI file\n",
        "    with open(file_name, \"wb\") as output_file:\n",
        "        midi.writeFile(output_file)\n",
        "    print(f\"MIDI file saved as {file_name}\")"
      ],
      "metadata": {
        "id": "lWiqAl9Kg6C9"
      },
      "execution_count": null,
      "outputs": []
    },
    {
      "cell_type": "code",
      "source": [
        "generated_rnn_text=\"\"\"\n",
        "X:1\n",
        "T:Alexander's\n",
        "Z: id:dc-hornpipe-1\n",
        "M:C|\n",
        "L:1/8\n",
        "K:|\n",
        "M:1/de\n",
        "d: e26/4 K:1/8\n",
        "K:F Maroa\n",
        "og|egdc affg|dged dfed|ffge eaee|faed dage|feff afge|fagg adfd|gedg gefd|afff afaf|fadd ggaf|edfd eeegagfeadae dagf|gedf gfdg|addg aegfngggeffae aaefggfd|dge gafdaaa afadgddf aff edfc|gfde fadg|dfd gdfdeaf fgadagd geeangfg gddgafe fffdafge|gge aefddad efffadf eggfedfg|aBBA F2d|feed gffd|aeeg fffd|fedf feec|fafe dfff|gff gfdfggededdg gfaeeefd|afdd eaef|aea afdaefdgadd efgeagagaaff efae ggfcdgf daefffafeaea gafa|a\n",
        "\n",
        "\"\"\"\n",
        "\n",
        "generated_lstm_text=\"\"\"\n",
        "X:1\n",
        "T:Alexander's\n",
        "Z: id:dc-hornpipe-1\n",
        "M:C|\n",
        "L:1/8\n",
        "K:A Major dc|eBG2 ceef|dddd gdgg|dBGA G2A|A2GG EDGA|!\n",
        "AABF F2G|dfdf e2B2|BGA2 BAF2|ABAG GGA|]!\n",
        "\n",
        "X:13\n",
        "T:Frlla oe Crols\n",
        "Z: id:dc-reed-198\n",
        "M:C\n",
        "L:1/8\n",
        "K:A Major\n",
        "AGAD DAEF|B3GD EGBF|A3F BFEF|BGBA B2B|!\n",
        "A2G2 DFAB|ABFG EFBF|BABA ABBF|EAEE FEG2|]!\n",
        "\n",
        "X:362\n",
        "T:Prdliell\n",
        "s: id:dc-reel-108\n",
        "M:C\n",
        "L:1/8\n",
        "K:A Mixolydian\n",
        "dd|BAFA c2dAdA|e2dd eeed|eddd cAGc|]edA G2:|!\n",
        "\n",
        "X:162\n",
        "T:Kusny Conn\n",
        "Z: id:dc-reel-104\n",
        "M:C\n",
        "L:1/8\n",
        "K:G Dorian\n",
        "e|dBde fdeedddec deBA|BFcec e2dec|f2\n",
        "gfag aegf\n",
        "\"\"\"\n",
        "\n",
        "generated_gru_text=\"\"\"\n",
        "X:1\n",
        "T:Alexander's\n",
        "Z: id:dc-hornpipe-1\n",
        "M:C|\n",
        "L:1/8\n",
        "K:A Mixolydian\n",
        "D|ddff dAGA|G2FB GAF2|B2AG AFEB|G2FE AFFE:|!\n",
        "gddf dgdg|e2dd adeg|eddg edBd|egea e2eg|!\n",
        "g2fg adeg|ffga efge|gefde fddd|cfeec efdB|!\n",
        "\n",
        "X:31\n",
        "T:Bal oe tha Rhleeo'sfrhe\n",
        "Z: id:dc-reel-20\n",
        "M:C\n",
        "L:1/8\n",
        "K:E Mixolydian\n",
        "A,|F2BG A2DG|A3EG BGGA|DGAF B2BA|E2FG DFDD|!\n",
        "G2AE ADFE|A2AA BAEA|G2dd geBG|A2AA DEED|!\n",
        "D3AG BFFE|B2dd gdBd|d2Ad dBBF|GFFE GED2:|!\n",
        "defe edBA|c2af fded|d3Bc BGAB|d2ef edB2|]!\n",
        "fdfa a2ef|d3de ffBd|f2ef dded|f2ef d2:2|!\n",
        "\n",
        "X:338\n",
        "T:Wail oh\n",
        "\"\"\"\n",
        "\n",
        "# Call save_to_midi_from_abc for each generated text and save them as separate MIDI files\n",
        "save_to_midi_from_abc(generated_rnn_text, file_name=\"generated_music_rnn.mid\")\n",
        "save_to_midi_from_abc(generated_lstm_text, file_name=\"generated_music_lstm.mid\")\n",
        "save_to_midi_from_abc(generated_gru_text, file_name=\"generated_music_gru.mid\")"
      ],
      "metadata": {
        "colab": {
          "base_uri": "https://localhost:8080/"
        },
        "id": "bVuG1QYZnp6h",
        "outputId": "fda24713-0996-4dbc-cae9-d16812d84ed9"
      },
      "execution_count": null,
      "outputs": [
        {
          "output_type": "stream",
          "name": "stdout",
          "text": [
            "MIDI file saved as generated_music_rnn.mid\n",
            "MIDI file saved as generated_music_lstm.mid\n",
            "MIDI file saved as generated_music_gru.mid\n"
          ]
        }
      ]
    }
  ]
}